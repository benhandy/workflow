{
  "cells": [
    {
      "cell_type": "markdown",
      "metadata": {
        "id": "view-in-github",
        "colab_type": "text"
      },
      "source": [
        "<a href=\"https://colab.research.google.com/github/twoandhalfben/workflow/blob/main/Augmented_NBA_Database.ipynb\" target=\"_parent\"><img src=\"https://colab.research.google.com/assets/colab-badge.svg\" alt=\"Open In Colab\"/></a>"
      ]
    },
    {
      "cell_type": "markdown",
      "metadata": {
        "id": "1jLhUNBJrmyz"
      },
      "source": []
    },
    {
      "cell_type": "code",
      "execution_count": null,
      "metadata": {
        "id": "8NkUafOlzanM"
      },
      "outputs": [],
      "source": [
        "\n",
        "import sqlite3\n",
        "import pandas as pd\n",
        "import numpy as np"
      ]
    },
    {
      "cell_type": "code",
      "execution_count": null,
      "metadata": {
        "id": "budIJEJJzjgp"
      },
      "outputs": [],
      "source": [
        "# creating in-memory database for prototyping\n",
        "conn = sqlite3.connect(':memory:')\n",
        "cursor = conn.cursor()"
      ]
    },
    {
      "cell_type": "code",
      "execution_count": null,
      "metadata": {
        "id": "jEu3CEXyzjsC"
      },
      "outputs": [],
      "source": [
        "# tabulating\n",
        "cursor.execute('''\n",
        "    CREATE TABLE IF NOT EXISTS nba_stats (\n",
        "        id INTEGER PRIMARY KEY AUTOINCREMENT,\n",
        "        player_name TEXT NOT NULL,\n",
        "        team_name TEXT NOT NULL,\n",
        "        points INTEGER DEFAULT 0,\n",
        "        assists INTEGER DEFAULT 0,\n",
        "        rebounds INTEGER DEFAULT 0\n",
        "    )\n",
        "''')\n",
        "conn.commit()"
      ]
    },
    {
      "cell_type": "code",
      "execution_count": null,
      "metadata": {
        "id": "UIlfJNeBzjzB"
      },
      "outputs": [],
      "source": [
        "# adding some player data to my database\n",
        "sample_data_1 = [\n",
        "    (\"LeBron James\", \"Lakers\", 35, 8, 7),\n",
        "    (\"Stephen Curry\", \"Warriors\", 40, 10, 5),\n",
        "    (\"Kevin Durant\", \"Suns\", 25, 6, 9),\n",
        "    (\"Giannis Antetokounmpo\", \"Bucks\", 30, 5, 11),\n",
        "    (\"Jayson Tatum\", \"Celtics\", 34, 4, 8),\n",
        "    (\"Luka Doncic\", \"Mavericks\", 36, 9, 7),\n",
        "    (\"Nikola Jokic\", \"Nuggets\", 28, 8, 14),\n",
        "    (\"Ja Morant\", \"Grizzlies\", 32, 10, 6),\n",
        "    (\"Jimmy Butler\", \"Heat\", 27, 5, 7),\n",
        "    (\"Kawhi Leonard\", \"Clippers\", 26, 6, 5),\n",
        "    (\"Pat Connaughton\", \"Bucks\", 17, 5, 3)\n",
        "]\n",
        "\n"
      ]
    },
    {
      "cell_type": "code",
      "execution_count": null,
      "metadata": {
        "id": "S_3uSm2Y3kMl"
      },
      "outputs": [],
      "source": [
        "sample_data_2 = [\n",
        "    (\"Anthony Davis\", \"Lakers\", 31, 3, 12),\n",
        "    (\"Damian Lillard\", \"Bucks\", 29, 8, 4),\n",
        "    (\"Devin Booker\", \"Suns\", 26, 5, 5),\n",
        "    (\"James Harden\", \"Clippers\", 20, 11, 4),\n",
        "    (\"Chris Paul\", \"Warriors\", 18, 12, 3),\n",
        "    (\"Kyrie Irving\", \"Mavericks\", 25, 7, 4),\n",
        "    (\"Joel Embiid\", \"76ers\", 33, 4, 10),\n",
        "    (\"Zion Williamson\", \"Pelicans\", 27, 3, 8),\n",
        "    (\"Trae Young\", \"Hawks\", 28, 10, 4),\n",
        "    (\"Paul George\", \"Clippers\", 24, 6, 6)\n",
        "]\n"
      ]
    },
    {
      "cell_type": "code",
      "execution_count": null,
      "metadata": {
        "id": "X9XaWkH23kU_"
      },
      "outputs": [],
      "source": [
        "sample_data_3 = [\n",
        "    (\"Bradley Beal\", \"Suns\", 23, 5, 4),\n",
        "    (\"Jaylen Brown\", \"Celtics\", 26, 3, 6),\n",
        "    (\"DeMar DeRozan\", \"Bulls\", 24, 4, 5),\n",
        "    (\"Rudy Gobert\", \"Timberwolves\", 12, 2, 15),\n",
        "    (\"Karl-Anthony Towns\", \"Timberwolves\", 23, 3, 9),\n",
        "    (\"Shai Gilgeous-Alexander\", \"Thunder\", 31, 6, 4),\n",
        "    (\"Donovan Mitchell\", \"Cavaliers\", 28, 5, 4),\n",
        "    (\"Jamal Murray\", \"Nuggets\", 23, 6, 4),\n",
        "    (\"Draymond Green\", \"Warriors\", 8, 8, 8),\n",
        "    (\"Andrew Wiggins\", \"Warriors\", 17, 2, 5)\n",
        "]\n"
      ]
    },
    {
      "cell_type": "code",
      "execution_count": null,
      "metadata": {
        "id": "KW93FSBV3kcZ"
      },
      "outputs": [],
      "source": [
        "# aggregating data batches\n",
        "all_data = sample_data_1 + sample_data_2 + sample_data_3\n",
        "\n",
        "cursor.executemany('''\n",
        "  INSERT INTO nba_stats (player_name, team_name, points, assists, rebounds)\n",
        "    VALUES (?, ?, ?, ?, ?)\n",
        "''', all_data)\n",
        "conn.commit()\n"
      ]
    },
    {
      "cell_type": "code",
      "execution_count": null,
      "metadata": {
        "colab": {
          "base_uri": "https://localhost:8080/"
        },
        "id": "juRBwC1ozj5B",
        "outputId": "48167f52-abb9-4bce-f38a-1535dca26658"
      },
      "outputs": [
        {
          "output_type": "stream",
          "name": "stdout",
          "text": [
            "(1, 'LeBron James', 'Lakers', 35, 8, 7)\n",
            "(2, 'Stephen Curry', 'Warriors', 40, 10, 5)\n",
            "(3, 'Kevin Durant', 'Suns', 25, 6, 9)\n",
            "(4, 'Giannis Antetokounmpo', 'Bucks', 30, 5, 11)\n",
            "(5, 'Jayson Tatum', 'Celtics', 34, 4, 8)\n",
            "(6, 'Luka Doncic', 'Mavericks', 36, 9, 7)\n",
            "(7, 'Nikola Jokic', 'Nuggets', 28, 8, 14)\n",
            "(8, 'Ja Morant', 'Grizzlies', 32, 10, 6)\n",
            "(9, 'Jimmy Butler', 'Heat', 27, 5, 7)\n",
            "(10, 'Kawhi Leonard', 'Clippers', 26, 6, 5)\n",
            "(11, 'Pat Connaughton', 'Bucks', 17, 5, 3)\n",
            "(12, 'Anthony Davis', 'Lakers', 31, 3, 12)\n",
            "(13, 'Damian Lillard', 'Bucks', 29, 8, 4)\n",
            "(14, 'Devin Booker', 'Suns', 26, 5, 5)\n",
            "(15, 'James Harden', 'Clippers', 20, 11, 4)\n",
            "(16, 'Chris Paul', 'Warriors', 18, 12, 3)\n",
            "(17, 'Kyrie Irving', 'Mavericks', 25, 7, 4)\n",
            "(18, 'Joel Embiid', '76ers', 33, 4, 10)\n",
            "(19, 'Zion Williamson', 'Pelicans', 27, 3, 8)\n",
            "(20, 'Trae Young', 'Hawks', 28, 10, 4)\n",
            "(21, 'Paul George', 'Clippers', 24, 6, 6)\n",
            "(22, 'Bradley Beal', 'Suns', 23, 5, 4)\n",
            "(23, 'Jaylen Brown', 'Celtics', 26, 3, 6)\n",
            "(24, 'DeMar DeRozan', 'Bulls', 24, 4, 5)\n",
            "(25, 'Rudy Gobert', 'Timberwolves', 12, 2, 15)\n",
            "(26, 'Karl-Anthony Towns', 'Timberwolves', 23, 3, 9)\n",
            "(27, 'Shai Gilgeous-Alexander', 'Thunder', 31, 6, 4)\n",
            "(28, 'Donovan Mitchell', 'Cavaliers', 28, 5, 4)\n",
            "(29, 'Jamal Murray', 'Nuggets', 23, 6, 4)\n",
            "(30, 'Draymond Green', 'Warriors', 8, 8, 8)\n",
            "(31, 'Andrew Wiggins', 'Warriors', 17, 2, 5)\n"
          ]
        }
      ],
      "source": [
        "# using SQL to fetch all data\n",
        "cursor.execute(\"SELECT * FROM nba_stats\")\n",
        "rows = cursor.fetchall()\n",
        "\n",
        "# print\n",
        "for row in rows:\n",
        "    print(row)"
      ]
    },
    {
      "cell_type": "markdown",
      "metadata": {
        "id": "YfNP3vOTzj-j"
      },
      "source": []
    },
    {
      "cell_type": "code",
      "execution_count": null,
      "metadata": {
        "colab": {
          "base_uri": "https://localhost:8080/"
        },
        "id": "BWHJXXYc5CGg",
        "outputId": "9e60b731-d2c2-4370-c2ff-6ed23a12e16a"
      },
      "outputs": [
        {
          "output_type": "stream",
          "name": "stdout",
          "text": [
            "    id              player_name     team_name  points  assists  rebounds\n",
            "0    1             LeBron James        Lakers      35        8         7\n",
            "1    2            Stephen Curry      Warriors      40       10         5\n",
            "2    3             Kevin Durant          Suns      25        6         9\n",
            "3    4    Giannis Antetokounmpo         Bucks      30        5        11\n",
            "4    5             Jayson Tatum       Celtics      34        4         8\n",
            "5    6              Luka Doncic     Mavericks      36        9         7\n",
            "6    7             Nikola Jokic       Nuggets      28        8        14\n",
            "7    8                Ja Morant     Grizzlies      32       10         6\n",
            "8    9             Jimmy Butler          Heat      27        5         7\n",
            "9   10            Kawhi Leonard      Clippers      26        6         5\n",
            "10  11          Pat Connaughton         Bucks      17        5         3\n",
            "11  12            Anthony Davis        Lakers      31        3        12\n",
            "12  13           Damian Lillard         Bucks      29        8         4\n",
            "13  14             Devin Booker          Suns      26        5         5\n",
            "14  15             James Harden      Clippers      20       11         4\n",
            "15  16               Chris Paul      Warriors      18       12         3\n",
            "16  17             Kyrie Irving     Mavericks      25        7         4\n",
            "17  18              Joel Embiid         76ers      33        4        10\n",
            "18  19          Zion Williamson      Pelicans      27        3         8\n",
            "19  20               Trae Young         Hawks      28       10         4\n",
            "20  21              Paul George      Clippers      24        6         6\n",
            "21  22             Bradley Beal          Suns      23        5         4\n",
            "22  23             Jaylen Brown       Celtics      26        3         6\n",
            "23  24            DeMar DeRozan         Bulls      24        4         5\n",
            "24  25              Rudy Gobert  Timberwolves      12        2        15\n",
            "25  26       Karl-Anthony Towns  Timberwolves      23        3         9\n",
            "26  27  Shai Gilgeous-Alexander       Thunder      31        6         4\n",
            "27  28         Donovan Mitchell     Cavaliers      28        5         4\n",
            "28  29             Jamal Murray       Nuggets      23        6         4\n",
            "29  30           Draymond Green      Warriors       8        8         8\n",
            "30  31           Andrew Wiggins      Warriors      17        2         5\n"
          ]
        }
      ],
      "source": [
        "# using pandas to read the data\n",
        "df = pd.read_sql_query(\"SELECT * FROM nba_stats\", conn)\n",
        "print(df)"
      ]
    },
    {
      "cell_type": "code",
      "execution_count": null,
      "metadata": {
        "colab": {
          "base_uri": "https://localhost:8080/",
          "height": 607
        },
        "id": "7a94Fqul5CST",
        "outputId": "4a0e7f72-b58d-4f1a-91f6-dd582e09f7b3"
      },
      "outputs": [
        {
          "output_type": "display_data",
          "data": {
            "text/plain": [
              "<Figure size 1000x600 with 1 Axes>"
            ],
            "image/png": "[encoded data removed]"
          },
          "metadata": {}
        }
      ],
      "source": [
        "# running a data viz\n",
        "top_scorers = df.sort_values(by='points', ascending=False).head(10)\n",
        "\n",
        "import matplotlib.pyplot as plt\n",
        "\n",
        "plt.figure(figsize=(10, 6))\n",
        "plt.bar(top_scorers['player_name'], top_scorers['points'], color='orange')\n",
        "plt.xlabel('Player Name')\n",
        "plt.ylabel('Points')\n",
        "plt.title('Top 10 NBA Scorers')\n",
        "plt.xticks(rotation=45)\n",
        "plt.tight_layout()\n",
        "plt.show()\n"
      ]
    },
    {
      "cell_type": "code",
      "execution_count": null,
      "metadata": {
        "id": "hzDLbnEv5CZb"
      },
      "outputs": [],
      "source": [
        "# now i am going to automate the generation of player data to generate 1000 players\n",
        "import random\n",
        "\n",
        "# base players to derive new data\n",
        "base_players = [\n",
        "    (\"LeBron James\", \"Lakers\", 35, 8, 7),\n",
        "    (\"Stephen Curry\", \"Warriors\", 40, 10, 5),\n",
        "    (\"Kevin Durant\", \"Suns\", 25, 6, 9),\n",
        "    (\"Giannis Antetokounmpo\", \"Bucks\", 30, 5, 11),\n",
        "    (\"Jayson Tatum\", \"Celtics\", 34, 4, 8),\n",
        "    (\"Luka Dončić\", \"Mavericks\", 36, 9, 7),\n",
        "    (\"Nikola Jokić\", \"Nuggets\", 28, 8, 14),\n",
        "    (\"Ja Morant\", \"Grizzlies\", 32, 10, 6),\n",
        "    (\"Jimmy Butler\", \"Heat\", 27, 5, 7),\n",
        "    (\"Kawhi Leonard\", \"Clippers\", 26, 6, 5),\n",
        "      (\"Pat Connaughton\", \"Bucks\", 17, 5, 3),\n",
        "]\n",
        "\n",
        "\n",
        "# team pool to randomize assignments\n",
        "teams = [\n",
        "    \"Lakers\", \"Warriors\", \"Suns\", \"Bucks\", \"Celtics\", \"Mavericks\", \"Nuggets\",\n",
        "    \"Grizzlies\", \"Heat\", \"Clippers\", \"76ers\", \"Hawks\", \"Pelicans\", \"Thunder\",\n",
        "    \"Bulls\", \"Knicks\", \"Raptors\", \"Spurs\", \"Cavaliers\", \"Jazz\"\n",
        "]\n",
        "\n",
        "# generate 1000 players\n",
        "player_data = []\n",
        "for i in range(1000):\n",
        "    base_player = random.choice(base_players)\n",
        "    player_name = f\"{base_player[0]}_{i}\"  # add a unique suffix to each name\n",
        "    team_name = random.choice(teams)\n",
        "    points = base_player[2] + random.randint(-5, 5)  # add variability\n",
        "    assists = base_player[3] + random.randint(-2, 2)\n",
        "    rebounds = base_player[4] + random.randint(-3, 3)\n",
        "    player_data.append((player_name, team_name, points, assists, rebounds))\n"
      ]
    },
    {
      "cell_type": "code",
      "execution_count": null,
      "metadata": {
        "id": "l6kHMOD96ieQ"
      },
      "outputs": [],
      "source": [
        "# insert augmented player data into database\n",
        "cursor.executemany('''\n",
        "    INSERT INTO nba_stats (player_name, team_name, points, assists, rebounds)\n",
        "    VALUES (?, ?, ?, ?, ?)\n",
        "''', player_data)\n",
        "conn.commit()\n"
      ]
    },
    {
      "cell_type": "code",
      "execution_count": null,
      "metadata": {
        "colab": {
          "base_uri": "https://localhost:8080/"
        },
        "id": "QxFbpkyi6imH",
        "outputId": "3d0b8f92-f49b-4e36-8bf8-2b125df773e0"
      },
      "outputs": [
        {
          "output_type": "stream",
          "name": "stdout",
          "text": [
            "Total Players: 1031\n",
            "(1, 'LeBron James', 'Lakers', 35, 8, 7)\n",
            "(2, 'Stephen Curry', 'Warriors', 40, 10, 5)\n",
            "(3, 'Kevin Durant', 'Suns', 25, 6, 9)\n",
            "(4, 'Giannis Antetokounmpo', 'Bucks', 30, 5, 11)\n",
            "(5, 'Jayson Tatum', 'Celtics', 34, 4, 8)\n",
            "(6, 'Luka Doncic', 'Mavericks', 36, 9, 7)\n",
            "(7, 'Nikola Jokic', 'Nuggets', 28, 8, 14)\n",
            "(8, 'Ja Morant', 'Grizzlies', 32, 10, 6)\n",
            "(9, 'Jimmy Butler', 'Heat', 27, 5, 7)\n",
            "(10, 'Kawhi Leonard', 'Clippers', 26, 6, 5)\n"
          ]
        }
      ],
      "source": [
        "# fetching amount of players to verify correct... should be 1031 players total\n",
        "    cursor.execute(\"SELECT COUNT(*) FROM nba_stats\")\n",
        "      total_players = cursor.fetchone()[0]\n",
        "          print(f\"Total Players: {total_players}\")  # should print 1000\n",
        "\n",
        "# fetch and display the first 10 rows\n",
        "    cursor.execute(\"SELECT * FROM nba_stats LIMIT 10\")\n",
        "      rows = cursor.fetchall()\n",
        "        for row in rows:\n",
        "           print(row)\n"
      ]
    },
    {
      "cell_type": "code",
      "execution_count": null,
      "metadata": {
        "colab": {
          "base_uri": "https://localhost:8080/"
        },
        "id": "tKbSb6I-6itR",
        "outputId": "7b8f137e-6301-4d27-a661-e406156328ea"
      },
      "outputs": [
        {
          "output_type": "stream",
          "name": "stdout",
          "text": [
            "            points      assists     rebounds\n",
            "count  1031.000000  1031.000000  1031.000000\n",
            "mean     30.084384     6.847721     7.467507\n",
            "std       6.814865     2.485900     3.415650\n",
            "min       8.000000     2.000000     0.000000\n",
            "25%      25.000000     5.000000     5.000000\n",
            "50%      30.000000     7.000000     7.000000\n",
            "75%      35.000000     9.000000     9.000000\n",
            "max      45.000000    12.000000    17.000000\n"
          ]
        }
      ],
      "source": [
        "# analysis\n",
        "  df = pd.read_sql_query(\"SELECT * FROM nba_stats\", conn)\n",
        "\n",
        "\n",
        "    print(df[['points', 'assists', 'rebounds']].describe())\n"
      ]
    },
    {
      "cell_type": "code",
      "execution_count": null,
      "metadata": {
        "colab": {
          "base_uri": "https://localhost:8080/"
        },
        "id": "_UU7gLGI66-t",
        "outputId": "9ba592cf-641b-4617-95b4-1b93d05f1468"
      },
      "outputs": [
        {
          "output_type": "stream",
          "name": "stdout",
          "text": [
            "            points      assists\n",
            "count  1031.000000  1031.000000\n",
            "mean     30.084384     6.847721\n",
            "std       6.814865     2.485900\n",
            "min       8.000000     2.000000\n",
            "25%      25.000000     5.000000\n",
            "50%      30.000000     7.000000\n",
            "75%      35.000000     9.000000\n",
            "max      45.000000    12.000000\n"
          ]
        }
      ],
      "source": [
        "# messing around\n",
        "df = pd.read_sql_query(\"SELECT * FROM nba_stats \", conn)\n",
        "\n",
        "\n",
        "    print(df[['points', 'assists']].describe())\n"
      ]
    },
    {
      "cell_type": "code",
      "execution_count": null,
      "metadata": {
        "id": "54GwY62-8gnL"
      },
      "outputs": [],
      "source": [
        "import random\n",
        "\n",
        "# base players to expand data\n",
        "base_players = [\n",
        "    (\"LeBron James\", \"Lakers\", 35, 8, 7),\n",
        "    (\"Stephen Curry\", \"Warriors\", 40, 10, 5),\n",
        "    (\"Kevin Durant\", \"Suns\", 25, 6, 9),\n",
        "    (\"Giannis Antetokounmpo\", \"Bucks\", 30, 5, 11),\n",
        "    (\"Jayson Tatum\", \"Celtics\", 34, 4, 8),\n",
        "    (\"Luka Dončić\", \"Mavericks\", 36, 9, 7),\n",
        "    (\"Nikola Jokić\", \"Nuggets\", 28, 8, 14),\n",
        "    (\"Ja Morant\", \"Grizzlies\", 32, 10, 6),\n",
        "    (\"Jimmy Butler\", \"Heat\", 27, 5, 7),\n",
        "    (\"Kawhi Leonard\", \"Clippers\", 26, 6, 5)\n",
        "]\n",
        "\n",
        "teams = [\n",
        "    \"Lakers\", \"Warriors\", \"Suns\", \"Bucks\", \"Celtics\", \"Mavericks\", \"Nuggets\",\n",
        "      \"Grizzlies\", \"Heat\", \"Clippers\", \"76ers\", \"Hawks\", \"Pelicans\", \"Thunder\",\n",
        "         \"Bulls\", \"Knicks\", \"Raptors\", \"Spurs\", \"Cavaliers\", \"Jazz\"\n",
        "]\n",
        "\n",
        "# create data function\n",
        "def generate_large_dataset(base_players, num_rows=1000000):\n",
        "    large_dataset = []\n",
        "    for i in range(num_rows):\n",
        "        base_player = random.choice(base_players)\n",
        "        player_name = f\"{base_player[0]}_{i}\"\n",
        "        team_name = random.choice(teams)\n",
        "        points = max(0, base_player[2] + random.randint(-10, 10))\n",
        "        assists = max(0, base_player[3] + random.randint(-3, 3))\n",
        "        rebounds = max(0, base_player[4] + random.randint(-5, 5))\n",
        "        large_dataset.append((player_name, team_name, points, assists, rebounds))\n",
        "    return large_dataset\n",
        "\n",
        "# generate 1 million rows\n",
        "     large_dataset = generate_large_dataset(base_players, num_rows=1000000)\n",
        "\n"
      ]
    },
    {
      "cell_type": "code",
      "execution_count": null,
      "metadata": {
        "colab": {
          "base_uri": "https://localhost:8080/"
        },
        "id": "eoTqQrxD9YCa",
        "outputId": "94a2e5a4-384b-49ef-df00-251b62d3b456"
      },
      "outputs": [
        {
          "output_type": "stream",
          "name": "stdout",
          "text": [
            "('Stephen Curry_59', '76ers', 45)\n",
            "('Stephen Curry_94', 'Lakers', 45)\n",
            "('Stephen Curry_114', 'Grizzlies', 45)\n",
            "('Stephen Curry_217', 'Warriors', 45)\n",
            "('Stephen Curry_303', 'Knicks', 45)\n",
            "('Stephen Curry_405', 'Mavericks', 45)\n",
            "('Stephen Curry_451', 'Cavaliers', 45)\n",
            "('Stephen Curry_472', 'Warriors', 45)\n",
            "('Stephen Curry_510', 'Knicks', 45)\n",
            "('Stephen Curry_37', 'Knicks', 44)\n",
            "('Stephen Curry_92', 'Warriors', 44)\n",
            "('Stephen Curry_120', 'Spurs', 44)\n",
            "('Stephen Curry_165', 'Mavericks', 44)\n",
            "('Stephen Curry_312', 'Grizzlies', 44)\n",
            "('Stephen Curry_385', 'Bulls', 44)\n"
          ]
        }
      ],
      "source": [
        "# retrieve top 15 players with the highest points scored\n",
        "query = '''\n",
        "SELECT player_name, team_name, points\n",
        "  FROM nba_stats\n",
        "  ORDER BY points DESC\n",
        "LIMIT 15\n",
        "'''\n",
        "cursor.execute(query)\n",
        "result = cursor.fetchall()\n",
        "\n",
        "\n",
        "for row in result:\n",
        "    print(row)\n"
      ]
    },
    {
      "cell_type": "code",
      "execution_count": null,
      "metadata": {
        "colab": {
          "base_uri": "https://localhost:8080/"
        },
        "id": "PlKmQiYCY1P6",
        "outputId": "30f2d72b-7dbf-4452-9c08-01e1053dae65"
      },
      "outputs": [
        {
          "output_type": "stream",
          "name": "stdout",
          "text": [
            "Player Efficiency Rankings:\n",
            "('Draymond Green', 'Warriors', 8, 8, 8, 1.5)\n",
            "('Chris Paul', 'Warriors', 18, 12, 3, 1.41)\n",
            "('Pat Connaughton_61', 'Clippers', 12, 7, 2, 1.38)\n",
            "('Pat Connaughton_263', 'Hawks', 12, 6, 6, 1.38)\n",
            "('Pat Connaughton_649', 'Clippers', 13, 7, 5, 1.38)\n",
            "('James Harden', 'Clippers', 20, 11, 4, 1.37)\n",
            "('Pat Connaughton_663', 'Pelicans', 14, 7, 5, 1.37)\n",
            "('Pat Connaughton_115', 'Jazz', 15, 7, 6, 1.36)\n",
            "('Nikola Jokić_453', 'Cavaliers', 23, 10, 13, 1.36)\n",
            "('Nikola Jokić_659', 'Spurs', 23, 10, 12, 1.36)\n"
          ]
        }
      ],
      "source": [
        "# this algorithm to determine efficiency assumes points are proportional to shot attempts, and calculates \"efficiency\" based on points per stat action\n",
        "query = '''\n",
        "  SELECT player_name, team_name,\n",
        "           points, assists, rebounds,\n",
        "           ROUND((points + assists * 2 + rebounds * 1.5) / (points + assists + rebounds), 2) AS efficiency\n",
        "  FROM nba_stats\n",
        "  ORDER BY efficiency DESC\n",
        "  LIMIT 10;\n",
        "'''\n",
        "\n",
        "\n",
        "cursor.execute(query)\n",
        "results = cursor.fetchall()\n",
        "\n",
        "\n",
        "print(\"Player Efficiency Rankings:\")\n",
        "for row in results:\n",
        "    print(row)\n"
      ]
    },
    {
      "cell_type": "code",
      "execution_count": null,
      "metadata": {
        "colab": {
          "base_uri": "https://localhost:8080/"
        },
        "id": "DunB6PDmY1Yf",
        "outputId": "ebdb6f41-9480-4f85-c97e-21994fa336a0"
      },
      "outputs": [
        {
          "output_type": "stream",
          "name": "stdout",
          "text": [
            "Average Performance Metrics Per Team:\n",
            "('Celtics', 31.84, 6.95, 7.42)\n",
            "('Warriors', 30.93, 7.24, 7.69)\n",
            "('Knicks', 30.9, 6.67, 7.77)\n",
            "('76ers', 30.57, 6.83, 7.87)\n",
            "('Spurs', 30.51, 7.0, 6.91)\n",
            "('Clippers', 30.44, 6.69, 6.92)\n",
            "('Mavericks', 30.39, 7.17, 7.06)\n",
            "('Heat', 30.29, 6.79, 7.88)\n",
            "('Cavaliers', 30.29, 7.07, 6.89)\n",
            "('Grizzlies', 29.97, 7.12, 7.86)\n",
            "('Bucks', 29.89, 6.77, 7.67)\n",
            "('Jazz', 29.88, 7.29, 7.55)\n",
            "('Hawks', 29.88, 7.45, 7.55)\n",
            "('Nuggets', 29.83, 6.9, 7.28)\n",
            "('Suns', 29.69, 6.57, 7.14)\n",
            "('Thunder', 29.47, 6.24, 7.61)\n",
            "('Lakers', 29.45, 6.93, 6.7)\n",
            "('Raptors', 29.43, 6.57, 7.91)\n",
            "('Pelicans', 29.14, 6.14, 7.95)\n",
            "('Bulls', 28.79, 6.48, 7.83)\n",
            "('Timberwolves', 17.5, 2.5, 12.0)\n"
          ]
        }
      ],
      "source": [
        "# average performance metrics per team\n",
        "query = '''\n",
        "  SELECT team_name,\n",
        "           ROUND(AVG(points), 2) AS avg_points,\n",
        "           ROUND(AVG(assists), 2) AS avg_assists,\n",
        "           ROUND(AVG(rebounds), 2) AS avg_rebounds\n",
        "  FROM nba_stats\n",
        "  GROUP BY team_name\n",
        "  ORDER BY avg_points DESC;\n",
        "'''\n",
        "cursor.execute(query)\n",
        "results = cursor.fetchall()\n",
        "\n",
        "print(\"Average Performance Metrics Per Team:\")\n",
        "for row in results:\n",
        "    print(row)\n"
      ]
    },
    {
      "cell_type": "code",
      "execution_count": null,
      "metadata": {
        "colab": {
          "base_uri": "https://localhost:8080/"
        },
        "id": "MIwadKAxY1fw",
        "outputId": "61249875-fb2a-4e01-a1ac-338bbf6c03ef"
      },
      "outputs": [
        {
          "output_type": "stream",
          "name": "stdout",
          "text": [
            "Players with Triple-Doubles:\n",
            "('Luka Dončić_18', 'Nuggets', 41, 11, 10)\n",
            "('Nikola Jokić_189', 'Raptors', 27, 10, 15)\n",
            "('LeBron James_205', 'Cavaliers', 32, 10, 10)\n",
            "('Nikola Jokić_288', 'Grizzlies', 31, 10, 13)\n",
            "('Nikola Jokić_358', 'Heat', 27, 10, 13)\n",
            "('Nikola Jokić_384', 'Warriors', 32, 10, 14)\n",
            "('LeBron James_390', 'Cavaliers', 31, 10, 10)\n",
            "('Nikola Jokić_437', 'Lakers', 33, 10, 13)\n",
            "('Nikola Jokić_453', 'Cavaliers', 23, 10, 13)\n",
            "('Nikola Jokić_530', 'Grizzlies', 25, 10, 15)\n",
            "('Luka Dončić_572', 'Cavaliers', 32, 11, 10)\n",
            "('Nikola Jokić_659', 'Spurs', 23, 10, 12)\n",
            "('Nikola Jokić_766', '76ers', 30, 10, 13)\n",
            "('Nikola Jokić_891', 'Mavericks', 26, 10, 17)\n",
            "('Nikola Jokić_909', '76ers', 28, 10, 15)\n",
            "('Nikola Jokić_917', 'Pelicans', 31, 10, 11)\n",
            "('LeBron James_939', 'Bucks', 40, 10, 10)\n",
            "('Nikola Jokić_966', 'Hawks', 31, 10, 16)\n",
            "('Nikola Jokić_972', '76ers', 25, 10, 11)\n",
            "('Nikola Jokić_977', 'Hawks', 27, 10, 15)\n",
            "('Nikola Jokić_987', 'Grizzlies', 24, 10, 13)\n"
          ]
        }
      ],
      "source": [
        "# players with triple-doubles\n",
        "query = '''\n",
        "SELECT player_name, team_name, points, assists, rebounds\n",
        "  FROM nba_stats\n",
        "  WHERE points >= 10 AND assists >= 10 AND rebounds >= 10;\n",
        "'''\n",
        "cursor.execute(query)\n",
        "results = cursor.fetchall()\n",
        "\n",
        "print(\"Players with Triple-Doubles:\")\n",
        "for row in results:\n",
        "    print(row)\n"
      ]
    },
    {
      "cell_type": "code",
      "execution_count": null,
      "metadata": {
        "colab": {
          "base_uri": "https://localhost:8080/",
          "height": 965
        },
        "id": "OYQDI-JaZ49f",
        "outputId": "25f5020b-bb4e-4fbe-db48-38392fa732db"
      },
      "outputs": [
        {
          "output_type": "stream",
          "name": "stdout",
          "text": [
            "       Team Name  Total Points\n",
            "0       Clippers          1857\n",
            "1       Warriors          1794\n",
            "2        Nuggets          1790\n",
            "3        Celtics          1751\n",
            "4      Grizzlies          1738\n",
            "5          Bucks          1704\n",
            "6          Spurs          1678\n",
            "7      Cavaliers          1666\n",
            "8      Mavericks          1641\n",
            "9        Thunder          1503\n",
            "10        Knicks          1483\n",
            "11          Jazz          1464\n",
            "12         Hawks          1464\n",
            "13          Suns          1455\n",
            "14         76ers          1437\n",
            "15       Raptors          1383\n",
            "16         Bulls          1382\n",
            "17        Lakers          1296\n",
            "18          Heat          1272\n",
            "19      Pelicans          1224\n",
            "20  Timberwolves            35\n"
          ]
        },
        {
          "output_type": "execute_result",
          "data": {
            "text/plain": [
              "<Axes: title={'center': 'Total Points by Team'}, xlabel='Team Name'>"
            ]
          },
          "metadata": {},
          "execution_count": 225
        },
        {
          "output_type": "display_data",
          "data": {
            "text/plain": [
              "<Figure size 640x480 with 1 Axes>"
            ],
            "image/png": "[encoded data removed]"
          },
          "metadata": {}
        }
      ],
      "source": [
        "# visualization for total points per team\n",
        "import pandas as pd\n",
        "\n",
        "query = '''\n",
        "  SELECT team_name, SUM(points) AS total_points\n",
        "    FROM nba_stats\n",
        "    GROUP BY team_name\n",
        "    ORDER BY total_points DESC;\n",
        "'''\n",
        "cursor.execute(query)\n",
        "results = cursor.fetchall()\n",
        "\n",
        "# convert\n",
        "df = pd.DataFrame(results, columns=['Team Name', 'Total Points'])\n",
        "\n",
        "\n",
        "    print(df)\n",
        "\n",
        "        df.plot(x='Team Name', y='Total Points', kind='bar', legend=False, title='Total Points by Team')\n"
      ]
    },
    {
      "cell_type": "code",
      "execution_count": null,
      "metadata": {
        "id": "L1MmX8ftZ5Nk"
      },
      "outputs": [],
      "source": [
        "# going to try and augment another 10 million random player records\n",
        "# i need to update/modify the table schema first to add a 'year' column\n",
        "\n",
        "cursor.execute('''\n",
        "    CREATE TABLE IF NOT EXISTS nba_stats (\n",
        "        id INTEGER PRIMARY KEY AUTOINCREMENT,\n",
        "        player_name TEXT NOT NULL,\n",
        "        team_name TEXT NOT NULL,\n",
        "        points INTEGER DEFAULT 0,\n",
        "        assists INTEGER DEFAULT 0,\n",
        "        rebounds INTEGER DEFAULT 0,\n",
        "        year INTEGER NOT NULL\n",
        "    )\n",
        "''')\n",
        "conn.commit()\n"
      ]
    },
    {
      "cell_type": "code",
      "execution_count": null,
      "metadata": {
        "id": "ZiwhqJlhZ5VB"
      },
      "outputs": [],
      "source": [
        "# updated function to include 'year' column\n",
        "# went back and changed rows from 1 mil to 100,000\n",
        "\n",
        "import random\n",
        "\n",
        "def generate_historical_data(num_records=100000):\n",
        "\n",
        "    teams = [\"Lakers\", \"Warriors\", \"Suns\", \"Bucks\", \"Celtics\", \"Mavericks\", \"Nuggets\", \"Grizzlies\", \"Heat\", \"Clippers\"]\n",
        "\n",
        "    # new synthetic data\n",
        "    data = []\n",
        "    for _ in range(num_records):\n",
        "        player_name = f\"Player_{random.randint(1, num_records)}\"  # random names\n",
        "        team_name = random.choice(teams)\n",
        "        points = random.randint(0, 50)   # points\n",
        "        assists = random.randint(0, 15)  # assists\n",
        "        rebounds = random.randint(0, 20)  # rebounds\n",
        "        year = random.randint(1980, 2024)  # years between 1980 2024\n",
        "        data.append((player_name, team_name, points, assists, rebounds, year))\n",
        "    return data\n"
      ]
    },
    {
      "cell_type": "code",
      "execution_count": null,
      "metadata": {
        "id": "F7kvCAKDogUM",
        "colab": {
          "base_uri": "https://localhost:8080/"
        },
        "outputId": "e0ea05af-6e34-4999-f4d2-1af75971a470"
      },
      "outputs": [
        {
          "output_type": "stream",
          "name": "stdout",
          "text": [
            "Total rows in the database: 1031\n",
            "(1, 'LeBron James', 'Lakers', 35, 8, 7)\n",
            "(2, 'Stephen Curry', 'Warriors', 40, 10, 5)\n",
            "(3, 'Kevin Durant', 'Suns', 25, 6, 9)\n",
            "(4, 'Giannis Antetokounmpo', 'Bucks', 30, 5, 11)\n",
            "(5, 'Jayson Tatum', 'Celtics', 34, 4, 8)\n",
            "(6, 'Luka Doncic', 'Mavericks', 36, 9, 7)\n",
            "(7, 'Nikola Jokic', 'Nuggets', 28, 8, 14)\n",
            "(8, 'Ja Morant', 'Grizzlies', 32, 10, 6)\n",
            "(9, 'Jimmy Butler', 'Heat', 27, 5, 7)\n",
            "(10, 'Kawhi Leonard', 'Clippers', 26, 6, 5)\n",
            "(11, 'Pat Connaughton', 'Bucks', 17, 5, 3)\n",
            "(12, 'Anthony Davis', 'Lakers', 31, 3, 12)\n",
            "(13, 'Damian Lillard', 'Bucks', 29, 8, 4)\n",
            "(14, 'Devin Booker', 'Suns', 26, 5, 5)\n",
            "(15, 'James Harden', 'Clippers', 20, 11, 4)\n",
            "(16, 'Chris Paul', 'Warriors', 18, 12, 3)\n",
            "(17, 'Kyrie Irving', 'Mavericks', 25, 7, 4)\n",
            "(18, 'Joel Embiid', '76ers', 33, 4, 10)\n",
            "(19, 'Zion Williamson', 'Pelicans', 27, 3, 8)\n",
            "(20, 'Trae Young', 'Hawks', 28, 10, 4)\n",
            "(21, 'Paul George', 'Clippers', 24, 6, 6)\n",
            "(22, 'Bradley Beal', 'Suns', 23, 5, 4)\n",
            "(23, 'Jaylen Brown', 'Celtics', 26, 3, 6)\n",
            "(24, 'DeMar DeRozan', 'Bulls', 24, 4, 5)\n",
            "(25, 'Rudy Gobert', 'Timberwolves', 12, 2, 15)\n",
            "(26, 'Karl-Anthony Towns', 'Timberwolves', 23, 3, 9)\n",
            "(27, 'Shai Gilgeous-Alexander', 'Thunder', 31, 6, 4)\n",
            "(28, 'Donovan Mitchell', 'Cavaliers', 28, 5, 4)\n",
            "(29, 'Jamal Murray', 'Nuggets', 23, 6, 4)\n",
            "(30, 'Draymond Green', 'Warriors', 8, 8, 8)\n",
            "(31, 'Andrew Wiggins', 'Warriors', 17, 2, 5)\n",
            "(32, 'Jayson Tatum_0', 'Mavericks', 36, 2, 9)\n",
            "(33, 'Kawhi Leonard_1', 'Celtics', 28, 6, 8)\n",
            "(34, 'Kawhi Leonard_2', 'Lakers', 28, 4, 4)\n",
            "(35, 'Ja Morant_3', 'Grizzlies', 30, 8, 4)\n",
            "(36, 'Luka Dončić_4', 'Mavericks', 34, 7, 4)\n",
            "(37, 'LeBron James_5', 'Nuggets', 34, 6, 10)\n",
            "(38, 'Jimmy Butler_6', 'Thunder', 25, 4, 4)\n",
            "(39, 'Jayson Tatum_7', 'Spurs', 31, 2, 6)\n",
            "(40, 'Luka Dončić_8', 'Jazz', 35, 10, 4)\n",
            "(41, 'Giannis Antetokounmpo_9', 'Knicks', 33, 5, 13)\n",
            "(42, 'Kevin Durant_10', 'Clippers', 28, 6, 6)\n",
            "(43, 'Kevin Durant_11', 'Cavaliers', 29, 5, 10)\n",
            "(44, 'Jimmy Butler_12', 'Warriors', 26, 6, 10)\n",
            "(45, 'Kawhi Leonard_13', 'Cavaliers', 22, 7, 6)\n",
            "(46, 'Pat Connaughton_14', 'Bucks', 22, 6, 6)\n",
            "(47, 'Stephen Curry_15', 'Grizzlies', 42, 8, 4)\n",
            "(48, 'Luka Dončić_16', 'Nuggets', 37, 10, 5)\n",
            "(49, 'Pat Connaughton_17', 'Raptors', 12, 3, 3)\n",
            "(50, 'Luka Dončić_18', 'Nuggets', 41, 11, 10)\n",
            "(51, 'Luka Dončić_19', 'Hawks', 37, 11, 5)\n",
            "(52, 'Jimmy Butler_20', 'Suns', 31, 7, 4)\n",
            "(53, 'Stephen Curry_21', 'Hawks', 37, 11, 4)\n",
            "(54, 'Kawhi Leonard_22', 'Hawks', 22, 8, 6)\n",
            "(55, 'Stephen Curry_23', 'Hawks', 38, 10, 6)\n",
            "(56, 'Stephen Curry_24', 'Suns', 42, 9, 8)\n",
            "(57, 'Kawhi Leonard_25', 'Bulls', 31, 8, 2)\n",
            "(58, 'Luka Dončić_26', 'Bucks', 37, 7, 6)\n",
            "(59, 'Kevin Durant_27', 'Lakers', 20, 8, 12)\n",
            "(60, 'Giannis Antetokounmpo_28', 'Bucks', 35, 7, 8)\n",
            "(61, 'Kevin Durant_29', 'Raptors', 25, 5, 8)\n",
            "(62, 'Kawhi Leonard_30', 'Spurs', 29, 5, 2)\n",
            "(63, 'Giannis Antetokounmpo_31', '76ers', 34, 3, 9)\n",
            "(64, 'Luka Dončić_32', 'Suns', 41, 11, 5)\n",
            "(65, 'Jayson Tatum_33', 'Suns', 37, 2, 8)\n",
            "(66, 'Giannis Antetokounmpo_34', 'Celtics', 31, 4, 14)\n",
            "(67, 'Jimmy Butler_35', 'Clippers', 25, 4, 6)\n",
            "(68, 'Stephen Curry_36', 'Clippers', 35, 8, 8)\n",
            "(69, 'Stephen Curry_37', 'Knicks', 44, 9, 8)\n",
            "(70, 'Kawhi Leonard_38', 'Mavericks', 28, 8, 8)\n",
            "(71, 'Pat Connaughton_39', 'Bucks', 14, 6, 1)\n",
            "(72, 'Jayson Tatum_40', 'Suns', 33, 2, 6)\n",
            "(73, 'Ja Morant_41', 'Knicks', 27, 8, 4)\n",
            "(74, 'Stephen Curry_42', 'Hawks', 43, 11, 2)\n",
            "(75, 'Jimmy Butler_43', 'Lakers', 31, 3, 8)\n",
            "(76, 'Luka Dončić_44', 'Bulls', 33, 11, 9)\n",
            "(77, 'Stephen Curry_45', 'Mavericks', 37, 9, 3)\n",
            "(78, 'Kevin Durant_46', 'Raptors', 30, 6, 9)\n",
            "(79, 'LeBron James_47', 'Lakers', 32, 10, 4)\n",
            "(80, 'Jayson Tatum_48', 'Thunder', 36, 2, 10)\n",
            "(81, 'Pat Connaughton_49', 'Warriors', 16, 3, 4)\n",
            "(82, 'Kevin Durant_50', 'Heat', 21, 4, 11)\n",
            "(83, 'Nikola Jokić_51', 'Raptors', 25, 6, 14)\n",
            "(84, 'LeBron James_52', 'Mavericks', 35, 6, 9)\n",
            "(85, 'Stephen Curry_53', 'Jazz', 43, 11, 4)\n",
            "(86, 'Jimmy Butler_54', 'Raptors', 28, 7, 8)\n",
            "(87, 'Jayson Tatum_55', 'Spurs', 32, 5, 11)\n",
            "(88, 'Nikola Jokić_56', 'Spurs', 24, 8, 14)\n",
            "(89, 'Luka Dončić_57', 'Celtics', 31, 9, 6)\n",
            "(90, 'Pat Connaughton_58', 'Nuggets', 21, 4, 5)\n",
            "(91, 'Stephen Curry_59', '76ers', 45, 8, 3)\n",
            "(92, 'Luka Dončić_60', 'Raptors', 36, 9, 9)\n",
            "(93, 'Pat Connaughton_61', 'Clippers', 12, 7, 2)\n",
            "(94, 'Pat Connaughton_62', 'Bucks', 15, 4, 5)\n",
            "(95, 'Luka Dončić_63', 'Pelicans', 35, 7, 5)\n",
            "(96, 'Kevin Durant_64', 'Pelicans', 24, 5, 9)\n",
            "(97, 'Kevin Durant_65', '76ers', 28, 8, 12)\n",
            "(98, 'Jayson Tatum_66', 'Bulls', 34, 2, 10)\n",
            "(99, 'Stephen Curry_67', 'Heat', 38, 12, 6)\n",
            "(100, 'Jimmy Butler_68', 'Spurs', 29, 7, 5)\n",
            "(101, 'LeBron James_69', 'Hawks', 40, 6, 8)\n",
            "(102, 'Luka Dončić_70', 'Warriors', 34, 7, 9)\n",
            "(103, 'Nikola Jokić_71', 'Warriors', 28, 7, 14)\n",
            "(104, 'Kawhi Leonard_72', 'Grizzlies', 30, 6, 3)\n",
            "(105, 'Kawhi Leonard_73', 'Bucks', 25, 4, 7)\n",
            "(106, 'LeBron James_74', 'Raptors', 32, 6, 6)\n",
            "(107, 'Jimmy Butler_75', 'Knicks', 28, 6, 10)\n",
            "(108, 'Nikola Jokić_76', 'Jazz', 27, 8, 15)\n",
            "(109, 'Jayson Tatum_77', 'Grizzlies', 29, 4, 6)\n",
            "(110, 'Jayson Tatum_78', 'Cavaliers', 36, 5, 7)\n",
            "(111, 'Jimmy Butler_79', 'Clippers', 27, 5, 9)\n",
            "(112, 'Ja Morant_80', 'Suns', 33, 12, 9)\n",
            "(113, 'Jayson Tatum_81', 'Bucks', 30, 4, 11)\n",
            "(114, 'Kevin Durant_82', 'Nuggets', 28, 7, 12)\n",
            "(115, 'LeBron James_83', 'Bucks', 31, 10, 7)\n",
            "(116, 'Nikola Jokić_84', 'Bulls', 25, 8, 13)\n",
            "(117, 'Ja Morant_85', 'Clippers', 37, 9, 7)\n",
            "(118, 'Stephen Curry_86', 'Grizzlies', 43, 10, 2)\n",
            "(119, 'Luka Dončić_87', 'Celtics', 36, 8, 4)\n",
            "(120, 'Ja Morant_88', '76ers', 37, 9, 6)\n",
            "(121, 'Stephen Curry_89', 'Warriors', 37, 12, 5)\n",
            "(122, 'Jayson Tatum_90', 'Pelicans', 34, 2, 6)\n",
            "(123, 'Ja Morant_91', '76ers', 35, 11, 9)\n",
            "(124, 'Stephen Curry_92', 'Warriors', 44, 11, 3)\n",
            "(125, 'Jayson Tatum_93', 'Celtics', 30, 4, 8)\n",
            "(126, 'Stephen Curry_94', 'Lakers', 45, 10, 6)\n",
            "(127, 'Luka Dončić_95', 'Bucks', 40, 10, 9)\n",
            "(128, 'Giannis Antetokounmpo_96', 'Celtics', 29, 3, 9)\n",
            "(129, 'LeBron James_97', 'Clippers', 33, 9, 5)\n",
            "(130, 'Kevin Durant_98', 'Mavericks', 23, 4, 12)\n",
            "(131, 'Ja Morant_99', 'Suns', 32, 11, 6)\n",
            "(132, 'Kevin Durant_100', 'Heat', 28, 7, 10)\n",
            "(133, 'Kawhi Leonard_101', '76ers', 29, 5, 3)\n",
            "(134, 'Giannis Antetokounmpo_102', 'Warriors', 28, 3, 14)\n",
            "(135, 'Giannis Antetokounmpo_103', 'Pelicans', 30, 6, 10)\n",
            "(136, 'Pat Connaughton_104', 'Raptors', 21, 7, 2)\n",
            "(137, 'Jayson Tatum_105', 'Bucks', 32, 2, 6)\n",
            "(138, 'Kawhi Leonard_106', 'Celtics', 22, 6, 8)\n",
            "(139, 'Stephen Curry_107', 'Knicks', 40, 9, 4)\n",
            "(140, 'Jayson Tatum_108', 'Nuggets', 32, 4, 5)\n",
            "(141, 'Jayson Tatum_109', 'Grizzlies', 32, 3, 9)\n",
            "(142, 'Pat Connaughton_110', 'Jazz', 22, 6, 2)\n",
            "(143, 'Jayson Tatum_111', 'Celtics', 39, 2, 8)\n",
            "(144, 'Nikola Jokić_112', 'Jazz', 32, 9, 16)\n",
            "(145, 'Giannis Antetokounmpo_113', '76ers', 32, 3, 8)\n",
            "(146, 'Stephen Curry_114', 'Grizzlies', 45, 12, 8)\n",
            "(147, 'Pat Connaughton_115', 'Jazz', 15, 7, 6)\n",
            "(148, 'Ja Morant_116', 'Heat', 28, 11, 8)\n",
            "(149, 'Stephen Curry_117', 'Mavericks', 37, 8, 7)\n",
            "(150, 'Kevin Durant_118', 'Cavaliers', 30, 4, 9)\n",
            "(151, 'Stephen Curry_119', 'Celtics', 35, 12, 2)\n",
            "(152, 'Stephen Curry_120', 'Spurs', 44, 9, 4)\n",
            "(153, 'Giannis Antetokounmpo_121', 'Clippers', 31, 5, 8)\n",
            "(154, 'Stephen Curry_122', 'Nuggets', 35, 9, 6)\n",
            "(155, 'Luka Dončić_123', 'Warriors', 31, 9, 5)\n",
            "(156, 'Nikola Jokić_124', 'Knicks', 23, 8, 12)\n",
            "(157, 'Jayson Tatum_125', '76ers', 35, 6, 6)\n",
            "(158, 'Jimmy Butler_126', 'Jazz', 24, 6, 4)\n",
            "(159, 'Giannis Antetokounmpo_127', 'Bucks', 35, 3, 12)\n",
            "(160, 'Luka Dončić_128', 'Celtics', 41, 7, 6)\n",
            "(161, 'Luka Dončić_129', 'Clippers', 33, 11, 4)\n",
            "(162, 'Jayson Tatum_130', 'Pelicans', 36, 4, 9)\n",
            "(163, 'Kevin Durant_131', 'Suns', 26, 8, 6)\n",
            "(164, 'Jayson Tatum_132', '76ers', 29, 6, 7)\n",
            "(165, 'Kevin Durant_133', 'Clippers', 23, 6, 6)\n",
            "(166, 'Stephen Curry_134', 'Knicks', 37, 8, 8)\n",
            "(167, 'Ja Morant_135', 'Heat', 30, 9, 4)\n",
            "(168, 'Ja Morant_136', 'Clippers', 34, 10, 7)\n",
            "(169, 'Ja Morant_137', 'Heat', 35, 11, 6)\n",
            "(170, 'Jimmy Butler_138', 'Cavaliers', 24, 6, 8)\n",
            "(171, 'Kevin Durant_139', 'Bucks', 23, 4, 7)\n",
            "(172, 'LeBron James_140', 'Nuggets', 32, 9, 8)\n",
            "(173, 'LeBron James_141', 'Clippers', 33, 10, 4)\n",
            "(174, 'Kevin Durant_142', 'Mavericks', 21, 7, 9)\n",
            "(175, 'Kevin Durant_143', 'Thunder', 25, 6, 12)\n",
            "(176, 'Nikola Jokić_144', 'Jazz', 31, 6, 16)\n",
            "(177, 'Jayson Tatum_145', 'Raptors', 30, 4, 6)\n",
            "(178, 'Nikola Jokić_146', 'Mavericks', 31, 7, 14)\n",
            "(179, 'Ja Morant_147', 'Jazz', 34, 9, 8)\n",
            "(180, 'Kevin Durant_148', 'Bulls', 23, 4, 9)\n",
            "(181, 'Kevin Durant_149', 'Hawks', 24, 8, 12)\n",
            "(182, 'Stephen Curry_150', 'Cavaliers', 43, 9, 7)\n",
            "(183, 'LeBron James_151', 'Thunder', 36, 6, 8)\n",
            "(184, 'Pat Connaughton_152', 'Clippers', 15, 3, 1)\n",
            "(185, 'Kevin Durant_153', 'Cavaliers', 22, 8, 11)\n",
            "(186, 'Luka Dončić_154', 'Spurs', 41, 9, 8)\n",
            "(187, 'Kawhi Leonard_155', 'Clippers', 23, 8, 8)\n",
            "(188, 'LeBron James_156', 'Thunder', 30, 8, 7)\n",
            "(189, 'Nikola Jokić_157', 'Mavericks', 25, 8, 14)\n",
            "(190, 'LeBron James_158', 'Nuggets', 37, 10, 9)\n",
            "(191, 'Luka Dončić_159', 'Raptors', 34, 10, 6)\n",
            "(192, 'Nikola Jokić_160', 'Thunder', 28, 7, 16)\n",
            "(193, 'Jimmy Butler_161', 'Bulls', 28, 7, 8)\n",
            "(194, 'Luka Dončić_162', 'Warriors', 33, 7, 7)\n",
            "(195, 'Giannis Antetokounmpo_163', 'Grizzlies', 35, 7, 9)\n",
            "(196, 'Nikola Jokić_164', 'Thunder', 23, 6, 14)\n",
            "(197, 'Stephen Curry_165', 'Mavericks', 44, 9, 4)\n",
            "(198, 'Giannis Antetokounmpo_166', 'Celtics', 25, 6, 11)\n",
            "(199, 'Stephen Curry_167', 'Thunder', 36, 11, 2)\n",
            "(200, 'Kawhi Leonard_168', 'Nuggets', 30, 8, 8)\n",
            "(201, 'LeBron James_169', 'Suns', 36, 9, 9)\n",
            "(202, 'Ja Morant_170', 'Suns', 31, 10, 6)\n",
            "(203, 'Ja Morant_171', 'Spurs', 34, 8, 5)\n",
            "(204, 'Jimmy Butler_172', 'Spurs', 28, 5, 6)\n",
            "(205, 'Jayson Tatum_173', 'Bulls', 30, 5, 8)\n",
            "(206, 'Pat Connaughton_174', 'Suns', 18, 5, 4)\n",
            "(207, 'Ja Morant_175', 'Bucks', 36, 11, 3)\n",
            "(208, 'Jimmy Butler_176', 'Cavaliers', 24, 3, 7)\n",
            "(209, 'Kevin Durant_177', 'Nuggets', 23, 7, 6)\n",
            "(210, 'Jayson Tatum_178', 'Spurs', 33, 2, 5)\n",
            "(211, 'Pat Connaughton_179', 'Grizzlies', 22, 7, 2)\n",
            "(212, 'Kawhi Leonard_180', 'Jazz', 30, 5, 3)\n",
            "(213, 'Jayson Tatum_181', 'Spurs', 32, 5, 8)\n",
            "(214, 'Nikola Jokić_182', 'Suns', 33, 9, 13)\n",
            "(215, 'Stephen Curry_183', 'Celtics', 41, 9, 6)\n",
            "(216, 'Nikola Jokić_184', 'Grizzlies', 23, 6, 14)\n",
            "(217, 'Nikola Jokić_185', 'Clippers', 23, 6, 15)\n",
            "(218, 'LeBron James_186', 'Thunder', 37, 6, 10)\n",
            "(219, 'Nikola Jokić_187', 'Bulls', 26, 7, 13)\n",
            "(220, 'Nikola Jokić_188', 'Cavaliers', 33, 9, 13)\n",
            "(221, 'Nikola Jokić_189', 'Raptors', 27, 10, 15)\n",
            "(222, 'Pat Connaughton_190', 'Mavericks', 13, 4, 5)\n",
            "(223, 'Giannis Antetokounmpo_191', 'Knicks', 27, 4, 12)\n",
            "(224, 'Jayson Tatum_192', 'Heat', 36, 4, 5)\n",
            "(225, 'Ja Morant_193', 'Pelicans', 29, 9, 9)\n",
            "(226, 'Pat Connaughton_194', 'Nuggets', 20, 5, 0)\n",
            "(227, 'Pat Connaughton_195', 'Lakers', 20, 7, 5)\n",
            "(228, 'Giannis Antetokounmpo_196', 'Nuggets', 35, 5, 10)\n",
            "(229, 'Kevin Durant_197', 'Hawks', 23, 6, 8)\n",
            "(230, 'Giannis Antetokounmpo_198', 'Pelicans', 27, 6, 12)\n",
            "(231, 'Giannis Antetokounmpo_199', 'Knicks', 30, 6, 13)\n",
            "(232, 'Kevin Durant_200', 'Warriors', 23, 6, 8)\n",
            "(233, 'Jayson Tatum_201', 'Knicks', 31, 3, 10)\n",
            "(234, 'Nikola Jokić_202', 'Celtics', 24, 6, 16)\n",
            "(235, 'Kawhi Leonard_203', 'Hawks', 28, 6, 5)\n",
            "(236, 'Kawhi Leonard_204', 'Suns', 27, 5, 6)\n",
            "(237, 'LeBron James_205', 'Cavaliers', 32, 10, 10)\n",
            "(238, 'LeBron James_206', 'Raptors', 38, 6, 7)\n",
            "(239, 'Giannis Antetokounmpo_207', 'Raptors', 27, 5, 13)\n",
            "(240, 'Kawhi Leonard_208', '76ers', 21, 4, 5)\n",
            "(241, 'Nikola Jokić_209', 'Nuggets', 29, 8, 14)\n",
            "(242, 'Kawhi Leonard_210', 'Mavericks', 26, 7, 4)\n",
            "(243, 'LeBron James_211', 'Knicks', 36, 9, 9)\n",
            "(244, 'Kevin Durant_212', 'Mavericks', 21, 7, 10)\n",
            "(245, 'Luka Dončić_213', 'Jazz', 40, 11, 9)\n",
            "(246, 'Stephen Curry_214', 'Grizzlies', 36, 9, 7)\n",
            "(247, 'Nikola Jokić_215', 'Grizzlies', 28, 6, 16)\n",
            "(248, 'Jimmy Butler_216', 'Jazz', 22, 7, 5)\n",
            "(249, 'Stephen Curry_217', 'Warriors', 45, 10, 6)\n",
            "(250, 'Giannis Antetokounmpo_218', 'Grizzlies', 30, 3, 10)\n"
          ]
        }
      ],
      "source": [
        "# count total rows in table\n",
        "cursor.execute('SELECT COUNT(*) FROM nba_stats')\n",
        "total_rows = cursor.fetchone()[0]\n",
        "print(f\"Total rows in the database: {total_rows}\")\n",
        "\n",
        "# query sample of the data\n",
        "cursor.execute('SELECT * FROM nba_stats LIMIT 250')\n",
        "sample_rows = cursor.fetchall()\n",
        "for row in sample_rows:\n",
        "    print(row)\n"
      ]
    },
    {
      "cell_type": "markdown",
      "metadata": {
        "id": "2Q1nPOwTpPJk"
      },
      "source": [
        "Here we can see that the data augmentation is running correctly. Players have been duplicated exponentially and assigned individual keys to serve as unique identifiers. My plan is to run advanced analytics with some machine learning frameworks. First I have to add more variables to create a more cohesive dataframe:\n",
        "\n",
        "Age: Player's age at the time of the season.\n",
        "\n",
        "Experience: Number of years in the league.\n",
        "\n",
        "Position: Player's primary position (PG, SG, SF, PF, C).\n",
        "\n",
        "Injury History: Indicator of past injuries and their impact on performance."
      ]
    },
    {
      "cell_type": "code",
      "execution_count": null,
      "metadata": {
        "id": "JLJsOR1_30Bc"
      },
      "outputs": [],
      "source": [
        "# adding new columns for age, experience, position, injusry history\n",
        "\n",
        "conn = sqlite3.connect(':memory:')\n",
        "cursor = conn.cursor()\n",
        "\n",
        "\n",
        "cursor.execute('''\n",
        "    CREATE TABLE IF NOT EXISTS nba_stats (\n",
        "        id INTEGER PRIMARY KEY AUTOINCREMENT,\n",
        "        player_name TEXT NOT NULL,\n",
        "        team_name TEXT NOT NULL,\n",
        "        points INTEGER DEFAULT 0,\n",
        "        assists INTEGER DEFAULT 0,\n",
        "        rebounds INTEGER DEFAULT 0,\n",
        "        year INTEGER NOT NULL,\n",
        "        age INTEGER,\n",
        "        experience INTEGER,\n",
        "        position TEXT,\n",
        "        injury_history TEXT\n",
        "    )\n",
        "''')\n",
        "\n",
        "# insert data into the table (replace placeholders with actual data)\n",
        "cursor.execute('''\n",
        "    INSERT INTO nba_stats (player_name, team_name, points, assists, rebounds, year, age, experience, position, injury_history)\n",
        "    VALUES ('LeBron James', 'Lakers', 35, 8, 7, 2023, 38, 21, 'SF', 'Multiple injuries, including ankle and knee')\n",
        "''')\n",
        "\n",
        "# commit the changes and close the connection\n",
        "conn.commit()\n",
        "conn.close()"
      ]
    },
    {
      "cell_type": "markdown",
      "metadata": {
        "id": "_7xAau9l4w2k"
      },
      "source": [
        "With these new columns added, now the database is more cohesive. I was planning to build a prediction model based on these 10,000,000+ datapoints and see if this augmented historical data i created is able to provide any interesting randomized insights."
      ]
    },
    {
      "cell_type": "markdown",
      "source": [
        "Augmenting and then processing and trying to print this much information used:\n",
        "\n",
        "RAM: 3.87 GB/12.67 GB\n",
        "Disk: 32.47 GB/107.72 GB\n",
        "\n",
        "On the Python 3 Google Compute Engine backend\n",
        "\n",
        "\n",
        "I need to go back and create less data as this completely crashed the colab file. If I subscribed to the service this would be more likely to run...  I'll try to optimize the size so I don't use all my available compute on this subscription plan"
      ],
      "metadata": {
        "id": "-ShC7xLz7Gqs"
      }
    },
    {
      "cell_type": "markdown",
      "source": [
        "\n",
        "Now I will regenerate a more realistic database size that won't break the cloud. I went back and updated to 100,000 rows"
      ],
      "metadata": {
        "id": "SSn9CkgX8Pr6"
      }
    },
    {
      "cell_type": "code",
      "execution_count": null,
      "metadata": {
        "id": "pZ5hMccjpM7z"
      },
      "outputs": [],
      "source": [
        "display (head )"
      ]
    },
    {
      "cell_type": "code",
      "execution_count": null,
      "metadata": {
        "id": "cF803Bl2pNDH"
      },
      "outputs": [],
      "source": []
    },
    {
      "cell_type": "code",
      "execution_count": null,
      "metadata": {
        "id": "V7lZxkS8pNKk"
      },
      "outputs": [],
      "source": []
    },
    {
      "cell_type": "code",
      "execution_count": null,
      "metadata": {
        "id": "lTUalRtWpNRW"
      },
      "outputs": [],
      "source": []
    },
    {
      "cell_type": "code",
      "execution_count": null,
      "metadata": {
        "id": "1lcmYgoVpNZQ"
      },
      "outputs": [],
      "source": []
    }
  ],
  "metadata": {
    "colab": {
      "provenance": [],
      "authorship_tag": "ABX9TyOIHeH+yKFmoRqcoarGRLZk",
      "include_colab_link": true
    },
    "kernelspec": {
      "display_name": "Python 3",
      "name": "python3"
    },
    "language_info": {
      "name": "python"
    }
  },
  "nbformat": 4,
  "nbformat_minor": 0
}